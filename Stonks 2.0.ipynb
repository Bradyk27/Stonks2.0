{
 "cells": [
  {
   "cell_type": "code",
   "execution_count": 1,
   "metadata": {},
   "outputs": [],
   "source": [
    "import pandas as pd\n",
    "import pandas_datareader as pdr\n",
    "import datetime\n",
    "import yfinance as yf\n",
    "import numpy as np\n",
    "from numpy import loadtxt\n",
    "from xgboost import XGBClassifier\n",
    "from sklearn.model_selection import train_test_split\n",
    "from sklearn.metrics import *\n",
    "import matplotlib.pyplot as plt\n",
    "import xlrd\n",
    "\n",
    "pd.options.mode.chained_assignment = None\n",
    "np.set_printoptions(suppress=True)\n",
    "\n",
    "#FEATURES\n",
    "#Prediction? Number of days trending upwards? Percentage increase?\n",
    "#Sell after a 5% increase?\n",
    "#Dissect what all of this means.\n",
    "#I want to get a precision / recall curve\n",
    "#Set rounding threshold lower\n",
    "#Confidence variables?\n",
    "#Try other models?\n",
    "#Try other stocks besides stocks that tend to just go up?\n",
    "#Predict rise in values rather than just simple classification?\n",
    "#Set rise rate higher / faster?\n",
    "#Invest money based on confidence / probability?\n",
    "#We call more about precision & accuracy than recall\n",
    "#Remove unnecessary features, prevent overfitting?\n",
    "#Paper trade over previous data...see how we would have fared?\n",
    "#Automate all of this?\n",
    "#Format notebook\n",
    "#Create github\n",
    "#Check my math & calculations?\n",
    "#Train, test, validate data (training data, testing data, stock not involved in the training) Validate on CSCO\n",
    "#NaN values a problem?\n",
    "#Overfitting based on general bullish tech stocks?\n",
    "#Rise 5% within 10 days or AT 10 days?\n",
    "#get model size / kernel size\n",
    "\n",
    "#BUGS\n",
    "#RSI 5 sometimes is NaN?\n",
    "#Check calculations: 9 or 10 days? Including or not including?\n",
    "#Normalze MACD?"
   ]
  },
  {
   "cell_type": "code",
   "execution_count": 2,
   "metadata": {},
   "outputs": [],
   "source": [
    "stock_symbols = [\"KR\", \"JNJ\", \"WMT\", \"CPB\", \"KO\", \"IP\"] \n",
    "stock_data = pd.DataFrame(columns=[\"Ticker\",\"Date\",\"Open\",\"High\",\"Low\",\"Close\"])"
   ]
  },
  {
   "cell_type": "code",
   "execution_count": 3,
   "metadata": {},
   "outputs": [],
   "source": [
    "for stock in stock_symbols:\n",
    "    y_finance_data = yf.Ticker(stock).history(start=(datetime.date.today()-datetime.timedelta(days=3650)).strftime(\"%Y-%m-%d\")).reset_index()\n",
    "    y_finance_data.insert(0,\"Ticker\", stock)\n",
    "    y_finance_data = y_finance_data[['Ticker', 'Date','Open','High','Low','Close']]\n",
    "    stock_data = pd.concat([stock_data, y_finance_data])\n",
    "stock_data = stock_data.rename(columns={\"Ticker\":\"TICKER\", \"Date\":\"DATE\", \"Open\":\"OPEN\", \"High\":\"HIGH\", \"Low\":\"LOW\", \"Close\":\"CLOSE\"})"
   ]
  },
  {
   "cell_type": "code",
   "execution_count": 4,
   "metadata": {},
   "outputs": [],
   "source": [
    "def RSI_calc(start, lookback, df, date_time=True):\n",
    "        if date_time:\n",
    "            start = start.strftime(\"%Y-%m-%d\")\n",
    "        if ((df.index[df[\"DATE\"]==start][0])-lookback) < 0:\n",
    "            return None\n",
    "        df = df[(df.index[df[\"DATE\"]==start][0])-lookback:df.index[df[\"DATE\"]==start][0]]\n",
    "        \n",
    "        df['GAIN_LOSS'] = df.apply(lambda row : (row[\"CLOSE\"]-row[\"OPEN\"]) / row[\"OPEN\"] * 100, axis=1)\n",
    "        avg_gain = df.loc[df['GAIN_LOSS'] >= 0][\"GAIN_LOSS\"].mean()\n",
    "        avg_loss = df.loc[df['GAIN_LOSS'] < 0][\"GAIN_LOSS\"].mean() * -1\n",
    "        RSI = 100 - (100 / (1 + (avg_gain/avg_loss)))\n",
    "        return RSI"
   ]
  },
  {
   "cell_type": "code",
   "execution_count": 5,
   "metadata": {},
   "outputs": [],
   "source": [
    "def daily_return(start, lookback, df, date_time=True):\n",
    "        if date_time:\n",
    "            start = start.strftime(\"%Y-%m-%d\")\n",
    "        if ((df.index[df[\"DATE\"]==start][0])-lookback) < 0:\n",
    "            return None\n",
    "        df = df[(df.index[df[\"DATE\"]==start][0])-lookback:df.index[df[\"DATE\"]==start][0]+1] #Include day?\n",
    "        df['daily_change'] = df.apply(lambda row: ((row['CLOSE'] - row['OPEN']) / row['OPEN']) * 100, axis=1)\n",
    "        avg_daily_return = df['daily_change'].mean()\n",
    "        return avg_daily_return"
   ]
  },
  {
   "cell_type": "code",
   "execution_count": 6,
   "metadata": {},
   "outputs": [],
   "source": [
    "def weekly_return(start, lookback, df, date_time=True): #Check math here!!\n",
    "        if date_time:\n",
    "            start = start.strftime(\"%Y-%m-%d\")\n",
    "        if ((df.index[df[\"DATE\"]==start][0])-lookback) < 0:\n",
    "            return None\n",
    "        df = df[(df.index[df[\"DATE\"]==start][0])-lookback:df.index[df[\"DATE\"]==start][0]+1] #Include day?\n",
    "        df = df.iloc[::5, :]\n",
    "        df = df.reset_index()\n",
    "        weekly_change_sum = 0\n",
    "        for i in range(1, len(df)): #Would really like to not be hacky about this...but oh well\n",
    "            weekly_change_sum += ((df.iloc[i]['CLOSE'] - df.iloc[i-1]['CLOSE']) / df.iloc[i-1]['OPEN']) * 100\n",
    "        weekly_change_avg = weekly_change_sum / len(df)-1\n",
    "        return weekly_change_avg"
   ]
  },
  {
   "cell_type": "code",
   "execution_count": 7,
   "metadata": {},
   "outputs": [],
   "source": [
    "def monthly_return(start, lookback, df, date_time=True):\n",
    "        if date_time:\n",
    "            start = start.strftime(\"%Y-%m-%d\")\n",
    "        if ((df.index[df[\"DATE\"]==start][0])-lookback) < 0:\n",
    "            return None\n",
    "        if(lookback < 30):\n",
    "            return None\n",
    "        df = df[(df.index[df[\"DATE\"]==start][0])-lookback:df.index[df[\"DATE\"]==start][0]+1] #Include day?\n",
    "        df = df.iloc[::30, :]\n",
    "        df = df.reset_index()\n",
    "        monthly_change_sum = 0\n",
    "        for i in range(1, len(df)): #Would really like to not be hacky about this...but oh well\n",
    "            monthly_change_sum += ((df.iloc[i]['CLOSE'] - df.iloc[i-1]['CLOSE']) / df.iloc[i-1]['OPEN']) * 100\n",
    "        monthly_change_avg = monthly_change_sum / len(df)-1\n",
    "        return monthly_change_avg"
   ]
  },
  {
   "cell_type": "code",
   "execution_count": 8,
   "metadata": {},
   "outputs": [],
   "source": [
    "def EMA(start, lookback, df):\n",
    "        df = df[(df.index[df[\"DATE\"]==start][0])-lookback:df.index[df[\"DATE\"]==start][0]+1]\n",
    "        df = df.reset_index()\n",
    "        SMA = (df['CLOSE'][0:lookback-1].sum()) / lookback\n",
    "        k = 2 / (lookback + 1)\n",
    "        EMA = (df.loc[df['DATE']==start]['CLOSE'] * k) + (SMA * (1-k))\n",
    "        return EMA\n",
    "    \n",
    "def MACD(start, lookback1, lookback2, df, date_time=True):\n",
    "        if date_time:\n",
    "            start = start.strftime(\"%Y-%m-%d\")\n",
    "        if ((df.index[df[\"DATE\"]==start][0])-lookback2) < 0:\n",
    "            return None\n",
    "        EMA_short = EMA(start, lookback1, df)\n",
    "        EMA_long = EMA(start, lookback2, df)\n",
    "        return float(EMA_short) - float(EMA_long)"
   ]
  },
  {
   "cell_type": "code",
   "execution_count": 9,
   "metadata": {},
   "outputs": [],
   "source": [
    "#df = stock_data.loc[stock_data[\"TICKER\"]==\"AAPL\"]\n",
    "#MACD(\"2020-06-30\", 10, 30, df, False)"
   ]
  },
  {
   "cell_type": "code",
   "execution_count": 10,
   "metadata": {},
   "outputs": [],
   "source": [
    "def ratio_avg_to_close(start, lookback, df, date_time=True): #Check math here!!\n",
    "        if date_time:\n",
    "            start = start.strftime(\"%Y-%m-%d\")\n",
    "        if ((df.index[df[\"DATE\"]==start][0])-lookback) < 0:\n",
    "            return None\n",
    "        df = df[(df.index[df[\"DATE\"]==start][0])-lookback:df.index[df[\"DATE\"]==start][0]+1]\n",
    "        df = df.reset_index()\n",
    "        mean_close = df[0:lookback]['CLOSE'].sum() / lookback\n",
    "        ratio = mean_close / df.iloc[lookback]['CLOSE']\n",
    "        return ratio"
   ]
  },
  {
   "cell_type": "code",
   "execution_count": 11,
   "metadata": {},
   "outputs": [],
   "source": [
    "def target(start, look_forward, df, target, date_time=True):\n",
    "        if date_time:\n",
    "            start = start.strftime(\"%Y-%m-%d\")\n",
    "        if ((df.index[df[\"DATE\"]==start][0])+look_forward) > len(df): #this works\n",
    "            return None\n",
    "        df = df[(df.index[df[\"DATE\"]==start][0]):df.index[df[\"DATE\"]==start][0]+look_forward] #+1? 9 or 10 days?\n",
    "        df = df.reset_index()\n",
    "        percent_increase = (df.iloc[look_forward-1]['CLOSE'] - df.iloc[0]['CLOSE']) / df.iloc[0]['CLOSE'] * 100\n",
    "        if percent_increase >= target:\n",
    "            return True\n",
    "        else:\n",
    "            return False"
   ]
  },
  {
   "cell_type": "code",
   "execution_count": 12,
   "metadata": {
    "scrolled": true
   },
   "outputs": [],
   "source": [
    "def calcutron(stock_data, stock_symbols, l = True):\n",
    "    df_list = []\n",
    "    if not l:\n",
    "        stock_symbols = [stock_symbols]\n",
    "    for stock in stock_symbols:\n",
    "        df = stock_data.loc[stock_data[\"TICKER\"]==stock]\n",
    "        for num in [5,10,30,60]:\n",
    "            df['RSI ' + str(num)] = df.apply(lambda row: RSI_calc(row['DATE'], num, df, True), axis=1)\n",
    "            df[\"AVG DAILY RETURN \" + str(num)] = df.apply(lambda row: daily_return(row['DATE'], num, df, True), axis=1)\n",
    "            df[\"AVG WEEKLY RETURN \" + str(num)] = df.apply(lambda row: weekly_return(row['DATE'], num, df, True), axis=1)\n",
    "            df[\"AVG MONTHLY RETURN \" + str(num)] = df.apply(lambda row: monthly_return(row['DATE'], num, df, True), axis=1)\n",
    "            df[\"RATIO \" + str(num)] = df.apply(lambda row: ratio_avg_to_close(row['DATE'], num, df, True), axis=1)\n",
    "        df[\"MACD 10_30\"] = df.apply(lambda row: MACD(row['DATE'], 10, 30, df, True), axis=1)\n",
    "        df[\"MACD 5_10\"] = df.apply(lambda row: MACD(row['DATE'], 5, 10, df, True), axis=1)\n",
    "        df[\"MACD 2_10\"] = df.apply(lambda row: MACD(row['DATE'], 2, 10, df, True), axis=1)\n",
    "        df['MACD 10_30 DIFF'] = df['MACD 10_30'].diff()\n",
    "        df['MACD 5_10 DIFF'] = df['MACD 5_10'].diff()\n",
    "        df['MACD 2_10 DIFF'] = df['MACD 2_10'].diff()\n",
    "        df[\"TARGET\"] = df.apply(lambda row: target(row['DATE'], 10, df, 5, True), axis=1)\n",
    "        df_list.append(df)\n",
    "    stock_data = pd.concat(df_list)\n",
    "    stock_data['TARGET'].value_counts(normalize=True) * 100\n",
    "    return stock_data\n",
    "    stock_data.to_excel(\"BIG STONK\"+\".xlsx\")"
   ]
  },
  {
   "cell_type": "code",
   "execution_count": null,
   "metadata": {},
   "outputs": [],
   "source": [
    "def trial"
   ]
  },
  {
   "cell_type": "code",
   "execution_count": 13,
   "metadata": {},
   "outputs": [
    {
     "name": "stdout",
     "output_type": "stream",
     "text": [
      "0.0    75.489171\n",
      "1.0    24.510829\n",
      "Name: TARGET, dtype: float64\n"
     ]
    }
   ],
   "source": [
    "#stock_data = calcutron(stock_data, stock_symbols) #Pick one of these\n",
    "stock_data = pd.read_excel(\"BIG STONK.xlsx\", engine='openpyxl')\n",
    "#import copy\n",
    "#stock_data_backup = copy.deepcopy(stock_data)\n",
    "stock_data = stock_data.drop(['AVG MONTHLY RETURN 5','AVG MONTHLY RETURN 10'], axis=1)\n",
    "stock_data = stock_data.dropna()\n",
    "input_patterns = stock_data.loc[:,'RSI 5':'MACD 2_10 DIFF'][60:len(stock_data)-10]\n",
    "input_label = stock_data['TARGET'][60:len(stock_data)-10].astype(int) #Why are these floats? It bothers me.\n",
    "print(stock_data)\n",
    "print(stock_data['TARGET'].value_counts(normalize=True) * 100)"
   ]
  },
  {
   "cell_type": "code",
   "execution_count": 20,
   "metadata": {},
   "outputs": [
    {
     "name": "stdout",
     "output_type": "stream",
     "text": [
      "Mean Accuracy: 78.15034065102193%\n",
      "Mean Precision: 63.006256520310984%\n",
      "Mean Recall: 26.580428270620942%\n",
      "XGBClassifier(base_score=0.5, booster='gbtree', colsample_bylevel=1,\n",
      "              colsample_bynode=1, colsample_bytree=1, eval_metric='logloss',\n",
      "              gamma=0, gpu_id=-1, importance_type='gain',\n",
      "              interaction_constraints='', learning_rate=0.300000012,\n",
      "              max_delta_step=0, max_depth=6, min_child_weight=1, missing=nan,\n",
      "              monotone_constraints='()', n_estimators=100, n_jobs=4,\n",
      "              num_parallel_tree=1, objective='binary:logistic', random_state=0,\n",
      "              reg_alpha=0, reg_lambda=1, scale_pos_weight=1, subsample=1,\n",
      "              tree_method='exact', use_label_encoder=False,\n",
      "              validate_parameters=1, verbosity=None)\n"
     ]
    },
    {
     "data": {
      "text/plain": [
       "' #FIX\\nprint(\"Mean Avg. Precision: {}%\".format(mean_avg_precision))\\ndisp = precision_recall_curve(X_test, y_test)\\ndisp.ax_.set_title(\\'2-class Precision-Recall curve: \\'\\n                   \\'AP={0:0.2f}\\'.format(mean_avg_precision))disp.plot()\\n'"
      ]
     },
     "execution_count": 20,
     "metadata": {},
     "output_type": "execute_result"
    }
   ],
   "source": [
    "accuracy_trials = []\n",
    "recall_trials = []\n",
    "precision_trials = []\n",
    "average_precision_trials = []\n",
    "\n",
    "for i in range(100):\n",
    "    X_train, X_test, y_train, y_test = train_test_split(input_patterns, input_label, test_size = .33)\n",
    "    model = XGBClassifier(eval_metric=\"logloss\", use_label_encoder=False)\n",
    "    model.fit(X_train, y_train)\n",
    "    accuracy_trials.append(accuracy_score(y_test, model.predict(X_test)) * 100.0)\n",
    "    precision_trials.append(precision_score(y_test, model.predict(X_test)) * 100.0)\n",
    "    recall_trials.append(recall_score(y_test, model.predict(X_test)) * 100.0)\n",
    "    average_precision_trials.append(average_precision_score(y_test, model.predict(X_test)))\n",
    "    \n",
    "mean_accuracy = sum(accuracy_trials) / len(accuracy_trials)\n",
    "mean_precision = sum(precision_trials) / len(precision_trials)\n",
    "mean_recall= sum(recall_trials) / len(recall_trials)\n",
    "mean_avg_precision= sum(average_precision_trials) / len(average_precision_trials)\n",
    "\n",
    "print(\"Mean Accuracy: {}%\".format(mean_accuracy))\n",
    "print(\"Mean Precision: {}%\".format(mean_precision))\n",
    "print(\"Mean Recall: {}%\".format(mean_recall))\n",
    "print(model)\n",
    "\n",
    "''' #FIX\n",
    "print(\"Mean Avg. Precision: {}%\".format(mean_avg_precision))\n",
    "disp = precision_recall_curve(X_test, y_test)\n",
    "disp.ax_.set_title('2-class Precision-Recall curve: '\n",
    "                   'AP={0:0.2f}'.format(mean_avg_precision))\\\n",
    "disp.plot()\n",
    "'''"
   ]
  },
  {
   "cell_type": "code",
   "execution_count": 21,
   "metadata": {},
   "outputs": [
    {
     "name": "stderr",
     "output_type": "stream",
     "text": [
      "/Library/Frameworks/Python.framework/Versions/3.7/lib/python3.7/site-packages/xgboost/sklearn.py:888: UserWarning: The use of label encoder in XGBClassifier is deprecated and will be removed in a future release. To remove this warning, do the following: 1) Pass option use_label_encoder=False when constructing XGBClassifier object; and 2) Encode your labels (y) as integers starting with 0, i.e. 0, 1, 2, ..., [num_class - 1].\n",
      "  warnings.warn(label_encoder_deprecation_msg, UserWarning)\n"
     ]
    },
    {
     "name": "stdout",
     "output_type": "stream",
     "text": [
      "[[0.9873838  0.01261623]\n",
      " [0.90679467 0.09320533]\n",
      " [0.94497657 0.05502341]\n",
      " ...\n",
      " [0.94722545 0.05277455]\n",
      " [0.732772   0.267228  ]\n",
      " [0.9528504  0.04714959]]\n"
     ]
    },
    {
     "data": {
      "text/plain": [
       "'\\n#Predictions\\nX_train, X_test, y_train, y_test = train_test_split(input_patterns, input_label, test_size = .33)\\nmodel = XGBClassifier(objective=\"binary:logistic\", eval_metric=\"logloss\")\\nmodel.fit(X_train, y_train)\\ny_pred = model.predict(X_test)\\nprint(y_pred)\\n'"
      ]
     },
     "execution_count": 21,
     "metadata": {},
     "output_type": "execute_result"
    }
   ],
   "source": [
    "\n",
    "#Probabilities\n",
    "X_train, X_test, y_train, y_test = train_test_split(input_patterns, input_label, test_size = .33)\n",
    "model = XGBClassifier(objective=\"binary:logistic\", eval_metric=\"logloss\")\n",
    "model.fit(X_train, y_train)\n",
    "y_pred = model.predict_proba(X_test)\n",
    "print(y_pred)\n",
    "'''\n",
    "#Predictions\n",
    "X_train, X_test, y_train, y_test = train_test_split(input_patterns, input_label, test_size = .33)\n",
    "model = XGBClassifier(objective=\"binary:logistic\", eval_metric=\"logloss\")\n",
    "model.fit(X_train, y_train)\n",
    "y_pred = model.predict(X_test)\n",
    "print(y_pred)\n",
    "'''"
   ]
  },
  {
   "cell_type": "code",
   "execution_count": null,
   "metadata": {},
   "outputs": [],
   "source": [
    "stock_symbols_testing = [\"PEP\"]\n",
    "\n",
    "for stock in stock_symbols_testing:\n",
    "    stock_data_testing = pd.DataFrame(columns=[\"Ticker\",\"Date\",\"Open\",\"High\",\"Low\",\"Close\"])\n",
    "    y_finance_data = yf.Ticker(stock).history(start=(datetime.date.today()-datetime.timedelta(days=1825)).strftime(\"%Y-%m-%d\")).reset_index()\n",
    "    y_finance_data.insert(0,\"Ticker\", stock)\n",
    "    y_finance_data = y_finance_data[['Ticker', 'Date','Open','High','Low','Close']]\n",
    "    \n",
    "    stock_data_testing = pd.concat([stock_data_testing, y_finance_data])\n",
    "    stock_data_testing = stock_data_testing.rename(columns={\"Ticker\":\"TICKER\", \"Date\":\"DATE\", \"Open\":\"OPEN\", \"High\":\"HIGH\", \"Low\":\"LOW\", \"Close\":\"CLOSE\"})\n",
    "    stock_data_testing = calcutron(stock_data_testing, stock, l=False)\n",
    "    stock_data_testing = stock_data_testing.drop(['AVG MONTHLY RETURN 5','AVG MONTHLY RETURN 10'], axis=1)\n",
    "    stock_data_testing = stock_data_testing.dropna()\n",
    "    print(stock_data_testing)\n",
    "    \n",
    "    input_patterns_testing = stock_data_testing.loc[:,'RSI 5':'MACD 2_10 DIFF'][60:len(stock_data)-10]\n",
    "    input_label_testing = stock_data_testing['TARGET'][60:len(stock_data)-10].astype(int)\n",
    "    \n",
    "    #print(stock_data_testing)\n",
    "    #print(input_patterns_testing)\n",
    "    #print(input_label_testing)\n",
    "    \n",
    "    accuracy_trials_testing = []\n",
    "    recall_trials_testing = []\n",
    "    precision_trials_testing = []\n",
    "    #average_precision_trials_testing = []\n",
    "    \n",
    "    y_prob = model.predict_proba(input_patterns_testing)\n",
    "    y_prob_round = []\n",
    "    threshold = .85\n",
    "    for row in y_prob:\n",
    "        if row[1] > threshold:\n",
    "            y_prob_round.append(1)\n",
    "        else:\n",
    "            y_prob_round.append(0)\n",
    "            \n",
    "    y_pred = model.predict(input_patterns_testing)\n",
    "    \n",
    "    accuracy_trials_testing.append(accuracy_score(input_label_testing, y_pred) * 100.0)\n",
    "    precision_trials_testing.append(precision_score(input_label_testing, y_pred) * 100.0)\n",
    "    recall_trials_testing.append(recall_score(input_label_testing, y_pred) * 100.0)\n",
    "    #average_precision_trials_testing.append(average_precision_score(y_test, model.predict(input_patterns_testing)))\n",
    "\n",
    "    mean_accuracy_testing = sum(accuracy_trials_testing) / len(accuracy_trials_testing)\n",
    "    mean_precision_testing = sum(precision_trials_testing) / len(precision_trials_testing)\n",
    "    mean_recall_testing = sum(recall_trials_testing) / len(recall_trials_testing)\n",
    "    #mean_avg_precision_testing = sum(average_precision_trials_testing) / len(average_precision_trials_testing)\n",
    "\n",
    "    print(\"Mean Accuracy {}: {}%\".format(stock, mean_accuracy_testing))\n",
    "    print(\"Mean Precision {}: {}%\".format(stock, mean_precision_testing))\n",
    "    print(\"Mean Recall {}: {}%\".format(stock, mean_recall_testing))\n",
    "    \n",
    "    accuracy_trials_testing.append(accuracy_score(input_label_testing, y_prob_round) * 100.0)\n",
    "    precision_trials_testing.append(precision_score(input_label_testing, y_prob_round) * 100.0)\n",
    "    recall_trials_testing.append(recall_score(input_label_testing, y_prob_round) * 100.0)\n",
    "    #average_precision_trials_testing.append(average_precision_score(y_test, model.predict(input_patterns_testing)))\n",
    "\n",
    "    mean_accuracy_testing = sum(accuracy_trials_testing) / len(accuracy_trials_testing)\n",
    "    mean_precision_testing = sum(precision_trials_testing) / len(precision_trials_testing)\n",
    "    mean_recall_testing = sum(recall_trials_testing) / len(recall_trials_testing)\n",
    "    #mean_avg_precision_testing = sum(average_precision_trials_testing) / len(average_precision_trials_testing)\n",
    "\n",
    "    print(\"Rounding Threshold: {}\".format(threshold))\n",
    "    print(\"Mean Accuracy {}: {}%\".format(stock, mean_accuracy_testing))\n",
    "    print(\"Mean Precision {}: {}%\".format(stock, mean_precision_testing))\n",
    "    print(\"Mean Recall {}: {}%\".format(stock, mean_recall_testing))\n",
    "    \n",
    "    ''' #FIX\n",
    "    print(\"Mean Avg. Precision: {}%\".format(mean_avg_precision))\n",
    "    disp = precision_recall_curve(X_test, y_test)\n",
    "    disp.ax_.set_title('2-class Precision-Recall curve: '\n",
    "                       'AP={0:0.2f}'.format(mean_avg_precision))\\\n",
    "    disp.plot()\n",
    "    '''"
   ]
  },
  {
   "cell_type": "code",
   "execution_count": null,
   "metadata": {},
   "outputs": [],
   "source": []
  }
 ],
 "metadata": {
  "kernelspec": {
   "display_name": "Python 3",
   "language": "python",
   "name": "python3"
  },
  "language_info": {
   "codemirror_mode": {
    "name": "ipython",
    "version": 3
   },
   "file_extension": ".py",
   "mimetype": "text/x-python",
   "name": "python",
   "nbconvert_exporter": "python",
   "pygments_lexer": "ipython3",
   "version": "3.7.0"
  }
 },
 "nbformat": 4,
 "nbformat_minor": 2
}
